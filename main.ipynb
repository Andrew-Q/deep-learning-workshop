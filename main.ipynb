{
 "cells": [
  {
   "cell_type": "markdown",
   "metadata": {
    "slideshow": {
     "slide_type": "slide"
    }
   },
   "source": [
    "# Deep learning on handwritten digits\n",
    "\n",
    "The MNIST (mixed National Institute of Standards and Technology) dataset ([https://en.wikipedia.org/wiki/MNIST_database](https://en.wikipedia.org/wiki/MNIST_database)) is a classic data set in machine learning. To develop our intuitions about the problem, we start with a simple linear classifier and achieve an average accuracy of $80\\%$. We then proceed to build a state-of-the-art convolutional neural network (CNN) and achieve an accuracy of over $98\\%$."
   ]
  },
  {
   "cell_type": "markdown",
   "metadata": {
    "slideshow": {
     "slide_type": "slide"
    }
   },
   "source": [
    "This notebook is available on [https://github.com/jcboyd/deep-learning-workshop](https://github.com/jcboyd/deep-learning-workshop).\n",
    "\n",
    "A Docker image for this project is available on Docker hub:\n",
    "\n",
    "> $ docker pull jcboyd/deep-learning-workshop/:[cpu|gpu]\n",
    "\n",
    "> $ nvidia-docker run -it -p 8888:8888 jcboyd/deep-learning-workshop/:[cpu|gpu]"
   ]
  },
  {
   "cell_type": "markdown",
   "metadata": {
    "slideshow": {
     "slide_type": "slide"
    }
   },
   "source": [
    "## 1. Machine Learning\n",
    "\n",
    "* Machine learning involves algorithms that find patterns in data.\n",
    "\n",
    "\n",
    "* This amounts to a form of *inductive reasoning*: inferring general rules from examples, with the view of reapplying them to new examples.\n",
    "\n",
    "\n",
    "* This symbols are labeled (yes/no) $\\implies$ *supervised* learning problem\n",
    "\n",
    "\n",
    "*Murphy, Kevin P. Machine learning: a probabilistic perspective. MIT press, 2012. (Figure 1.1)* "
   ]
  },
  {
   "cell_type": "markdown",
   "metadata": {
    "collapsed": false,
    "slideshow": {
     "slide_type": "subslide"
    }
   },
   "source": [
    "![img/induction.png](img/induction.png)"
   ]
  },
  {
   "cell_type": "markdown",
   "metadata": {
    "slideshow": {
     "slide_type": "subslide"
    }
   },
   "source": [
    "* The corresponding dataset would look something like the following:"
   ]
  },
  {
   "cell_type": "code",
   "execution_count": 1,
   "metadata": {
    "collapsed": false,
    "slideshow": {
     "slide_type": "fragment"
    }
   },
   "outputs": [
    {
     "data": {
      "text/html": [
       "<div>\n",
       "<table border=\"1\" class=\"dataframe\">\n",
       "  <thead>\n",
       "    <tr style=\"text-align: right;\">\n",
       "      <th></th>\n",
       "      <th>Shape</th>\n",
       "      <th>Colour</th>\n",
       "      <th>Label</th>\n",
       "    </tr>\n",
       "  </thead>\n",
       "  <tbody>\n",
       "    <tr>\n",
       "      <th>0</th>\n",
       "      <td>Arrow</td>\n",
       "      <td>Blue</td>\n",
       "      <td>Yes</td>\n",
       "    </tr>\n",
       "    <tr>\n",
       "      <th>1</th>\n",
       "      <td>Circle</td>\n",
       "      <td>Green</td>\n",
       "      <td>Yes</td>\n",
       "    </tr>\n",
       "    <tr>\n",
       "      <th>2</th>\n",
       "      <td>Circle</td>\n",
       "      <td>Purple</td>\n",
       "      <td>Yes</td>\n",
       "    </tr>\n",
       "    <tr>\n",
       "      <th>3</th>\n",
       "      <td>Circle</td>\n",
       "      <td>Red</td>\n",
       "      <td>Yes</td>\n",
       "    </tr>\n",
       "    <tr>\n",
       "      <th>4</th>\n",
       "      <td>Star</td>\n",
       "      <td>Yellow</td>\n",
       "      <td>Yes</td>\n",
       "    </tr>\n",
       "  </tbody>\n",
       "</table>\n",
       "</div>"
      ],
      "text/plain": [
       "    Shape  Colour Label\n",
       "0   Arrow    Blue   Yes\n",
       "1  Circle   Green   Yes\n",
       "2  Circle  Purple   Yes\n",
       "3  Circle     Red   Yes\n",
       "4    Star  Yellow   Yes"
      ]
     },
     "execution_count": 1,
     "metadata": {},
     "output_type": "execute_result"
    }
   ],
   "source": [
    "from pandas import read_csv\n",
    "table = read_csv(open('data/data.csv'))\n",
    "table.head()"
   ]
  },
  {
   "cell_type": "markdown",
   "metadata": {
    "slideshow": {
     "slide_type": "subslide"
    }
   },
   "source": [
    "### 1.1 Classifiers\n",
    "\n",
    "* The above is an example of a *classification* problem. \n",
    "\n",
    "\n",
    "* Each *observation* $\\mathbf{x}$ is represented by a vector of $D$ *features* and has label $y_i$ denoting its class (e.g. yes or no).\n",
    "\n",
    "\n",
    "* Thus, our dataset of $N$ observations is,\n",
    "\n",
    "$$\\mathcal{D} = \\{\\mathbf{x}_i, y_i\\}_{i=1}^N, \\mathbf{x}_i \\in \\mathbb{R}^D, y_i \\in \\{1, \\dots, C\\}$$\n",
    "\n",
    "\n",
    "* The model will attempt to divide the feature space such that the classes are as separate as possible, creating a *decision boundary*."
   ]
  },
  {
   "cell_type": "markdown",
   "metadata": {
    "collapsed": false,
    "slideshow": {
     "slide_type": "subslide"
    }
   },
   "source": [
    "![img/separation.png](img/separation.png)"
   ]
  },
  {
   "cell_type": "markdown",
   "metadata": {
    "slideshow": {
     "slide_type": "slide"
    }
   },
   "source": [
    "### 1.2 Data Exploration\n",
    "\n",
    "* The MNIST dataset ([https://en.wikipedia.org/wiki/MNIST_database](https://en.wikipedia.org/wiki/MNIST_database)) is a classic dataset in machine learning.\n",
    "\n",
    "\n",
    "* Derived from a dataset of handwritten characters ``crowdsourced'' from US high school students.\n",
    "\n",
    "\n",
    "* It consists of 60,000 labelled images of handwritten digits 0-9, and a test set of a further 10,000 images.\n",
    "\n",
    "\n",
    "* Notably used as a benchmark in the development of convolutional neural networks."
   ]
  },
  {
   "cell_type": "code",
   "execution_count": 2,
   "metadata": {
    "collapsed": false,
    "scrolled": false,
    "slideshow": {
     "slide_type": "subslide"
    }
   },
   "outputs": [
    {
     "name": "stdout",
     "output_type": "stream",
     "text": [
      "Training data shape:  (60000, 28, 28, 1)\n",
      "Training labels shape:  (60000,)\n",
      "Test data shape:  (10000, 28, 28, 1)\n",
      "Test labels shape:  (10000,)\n"
     ]
    }
   ],
   "source": [
    "from src import data_utils\n",
    "\n",
    "Xtr, Ytr, Xte, Yte = data_utils.get_all_data()\n",
    "\n",
    "print 'Training data shape: ', Xtr.shape\n",
    "print 'Training labels shape: ', Ytr.shape\n",
    "print 'Test data shape: ', Xte.shape\n",
    "print 'Test labels shape: ', Yte.shape"
   ]
  },
  {
   "cell_type": "markdown",
   "metadata": {
    "slideshow": {
     "slide_type": "subslide"
    }
   },
   "source": [
    "* We can visualise our data samples with Python"
   ]
  },
  {
   "cell_type": "code",
   "execution_count": 3,
   "metadata": {
    "collapsed": false,
    "scrolled": false,
    "slideshow": {
     "slide_type": "fragment"
    }
   },
   "outputs": [
    {
     "name": "stdout",
     "output_type": "stream",
     "text": [
      "Class: 6\n"
     ]
    },
    {
     "data": {
      "image/png": "[encoded data removed]",
      "text/plain": [
       "<matplotlib.figure.Figure at 0x10bcfb4d0>"
      ]
     },
     "metadata": {},
     "output_type": "display_data"
    }
   ],
   "source": [
    "%matplotlib inline\n",
    "import numpy as np\n",
    "import matplotlib.pyplot as plt\n",
    "from src import vis_utils\n",
    "\n",
    "fig, ax = plt.subplots(figsize=(7.5, 7.5))\n",
    "idx = np.random.randint(len(Xtr))\n",
    "vis_utils.plot_image(ax, Xtr[idx][0:,:,0], Ytr[idx])"
   ]
  },
  {
   "cell_type": "markdown",
   "metadata": {
    "slideshow": {
     "slide_type": "slide"
    }
   },
   "source": [
    "* As far as our model will be concerned, the images in the dataset are just vectors of numbers\n",
    "\n",
    "\n",
    "* From this perspective, there is no structural difference between the MNIST problem, and the symbols problem above\n",
    "\n",
    "\n",
    "* The observations just live in 784-dimensional space (28 x 28 pixels) rather than 2-dimensional space."
   ]
  },
  {
   "cell_type": "code",
   "execution_count": 4,
   "metadata": {
    "collapsed": false,
    "scrolled": false,
    "slideshow": {
     "slide_type": "slide"
    }
   },
   "outputs": [
    {
     "name": "stdout",
     "output_type": "stream",
     "text": [
      "[-0.5        -0.5        -0.5        -0.5        -0.5        -0.5        -0.5\n",
      " -0.5        -0.5        -0.5        -0.5        -0.5        -0.5        -0.5\n",
      " -0.5        -0.5        -0.5        -0.5        -0.5        -0.5        -0.5\n",
      " -0.5        -0.5        -0.5        -0.5        -0.5        -0.5        -0.5\n",
      " -0.5        -0.5        -0.5        -0.5        -0.5        -0.5        -0.5\n",
      " -0.5        -0.5        -0.5        -0.5        -0.5        -0.5        -0.5\n",
      " -0.5        -0.5        -0.5        -0.5        -0.5        -0.5        -0.5\n",
      " -0.5        -0.5        -0.5        -0.5        -0.5        -0.5        -0.5\n",
      " -0.5        -0.5        -0.5        -0.5        -0.5        -0.5        -0.5\n",
      " -0.5        -0.5        -0.5        -0.5        -0.5        -0.5        -0.5\n",
      " -0.5        -0.5        -0.5        -0.5        -0.5        -0.5        -0.5\n",
      " -0.5        -0.5        -0.5        -0.5        -0.5        -0.5        -0.5\n",
      " -0.5        -0.5        -0.5        -0.5        -0.5        -0.5        -0.5\n",
      " -0.5        -0.5        -0.5        -0.5        -0.5        -0.5        -0.5\n",
      " -0.5        -0.33529413  0.0882353   0.41764706  0.49607843  0.0372549\n",
      " -0.5        -0.5        -0.5        -0.5        -0.5        -0.5        -0.5\n",
      " -0.5        -0.5        -0.5        -0.5        -0.5        -0.5        -0.5\n",
      " -0.5        -0.5        -0.5        -0.5        -0.5        -0.5        -0.5\n",
      " -0.5        -0.44117647  0.31960785  0.49607843  0.43333334  0.44509804\n",
      "  0.25294119 -0.5        -0.5        -0.5        -0.5        -0.5        -0.5\n",
      " -0.5        -0.5        -0.5        -0.5        -0.5        -0.5        -0.5\n",
      " -0.5        -0.5        -0.5        -0.5        -0.5        -0.5        -0.5\n",
      " -0.5        -0.45294118  0.26078433  0.48823529  0.20980392 -0.37058824\n",
      " -0.24117647 -0.37450981 -0.5        -0.5        -0.5        -0.5        -0.5\n",
      " -0.5        -0.5        -0.5        -0.5        -0.5        -0.5        -0.5\n",
      " -0.5        -0.5        -0.5        -0.5        -0.5        -0.5        -0.5\n",
      " -0.5        -0.5         0.10392157  0.49607843 -0.00588235 -0.5        -0.5\n",
      " -0.5        -0.5        -0.5        -0.5        -0.5        -0.5        -0.5\n",
      " -0.5        -0.5        -0.5        -0.5        -0.5        -0.5        -0.5\n",
      " -0.5        -0.5        -0.5        -0.5        -0.5        -0.5        -0.5\n",
      " -0.5        -0.08431373  0.48431373  0.1509804  -0.47254902 -0.5        -0.5\n",
      " -0.5        -0.5        -0.5        -0.5        -0.5        -0.5        -0.5\n",
      " -0.5        -0.5        -0.5        -0.5        -0.5        -0.5        -0.5\n",
      " -0.5        -0.5        -0.5        -0.5        -0.5        -0.5        -0.5\n",
      " -0.32352942  0.40980393  0.28039217 -0.28823531 -0.5        -0.5        -0.5\n",
      " -0.5        -0.5        -0.5        -0.5        -0.5        -0.5        -0.5\n",
      " -0.5        -0.5        -0.5        -0.5        -0.5        -0.5        -0.5\n",
      " -0.5        -0.5        -0.5        -0.5        -0.5        -0.5\n",
      " -0.47254902  0.30000001  0.49607843 -0.24509804 -0.5        -0.5        -0.5\n",
      " -0.5        -0.5        -0.5        -0.5        -0.5        -0.5        -0.5\n",
      " -0.5        -0.5        -0.5        -0.5        -0.5        -0.5        -0.5\n",
      " -0.5        -0.5        -0.5        -0.5        -0.5        -0.5        -0.5\n",
      " -0.11960784  0.49607843  0.06078431 -0.49215686 -0.5        -0.5        -0.5\n",
      " -0.5        -0.5        -0.5        -0.5        -0.5        -0.5        -0.5\n",
      " -0.5        -0.5        -0.5        -0.5        -0.5        -0.5        -0.5\n",
      " -0.5        -0.5        -0.5        -0.5        -0.5        -0.5\n",
      " -0.40980393  0.40196079  0.45686275 -0.2764706  -0.5        -0.5        -0.5\n",
      " -0.5        -0.5        -0.5        -0.5        -0.5        -0.5        -0.5\n",
      " -0.5        -0.5        -0.5        -0.5        -0.5        -0.5        -0.5\n",
      " -0.5        -0.5        -0.5        -0.5        -0.5        -0.5        -0.5\n",
      " -0.0372549   0.49607843  0.02156863 -0.5        -0.5        -0.5        -0.5\n",
      " -0.5        -0.5        -0.5        -0.5        -0.5        -0.5        -0.5\n",
      " -0.5        -0.5        -0.5        -0.5        -0.5        -0.5        -0.5\n",
      " -0.5        -0.5        -0.5        -0.5        -0.5        -0.5        -0.5\n",
      "  0.4254902   0.48039216 -0.28039217 -0.5        -0.5        -0.5        -0.5\n",
      " -0.5        -0.5        -0.5        -0.5        -0.5        -0.5        -0.5\n",
      " -0.5        -0.5        -0.5        -0.5        -0.5        -0.5        -0.5\n",
      " -0.5        -0.5        -0.5        -0.5        -0.5        -0.5        -0.5\n",
      "  0.4254902   0.42156863 -0.5        -0.5        -0.5        -0.5        -0.5\n",
      " -0.5        -0.5        -0.5        -0.5        -0.5        -0.5        -0.5\n",
      " -0.5        -0.5        -0.5        -0.5        -0.5        -0.5        -0.5\n",
      " -0.5        -0.5        -0.5        -0.5        -0.5        -0.5        -0.5\n",
      "  0.4254902   0.13137256 -0.5        -0.5        -0.5        -0.5\n",
      " -0.48431373 -0.5        -0.5        -0.5        -0.5        -0.5        -0.5\n",
      " -0.5        -0.5        -0.5        -0.5        -0.5        -0.5        -0.5\n",
      " -0.5        -0.5        -0.5        -0.5        -0.5        -0.5        -0.5\n",
      " -0.5         0.4254902   0.04901961 -0.5        -0.5        -0.35490197\n",
      "  0.06862745  0.28823531  0.1627451   0.1509804  -0.28823531 -0.5        -0.5\n",
      " -0.5        -0.5        -0.5        -0.5        -0.5        -0.5        -0.5\n",
      " -0.5        -0.5        -0.5        -0.5        -0.5        -0.5        -0.5\n",
      " -0.5        -0.22156863  0.48823529  0.04901961 -0.5        -0.30392158\n",
      "  0.40588236  0.49607843  0.31176472  0.33529413  0.49607843  0.47254902\n",
      " -0.12352941 -0.46470588 -0.5        -0.5        -0.5        -0.5        -0.5\n",
      " -0.5        -0.5        -0.5        -0.5        -0.5        -0.5        -0.5\n",
      " -0.5        -0.5        -0.5        -0.44509804  0.43725491  0.3509804\n",
      " -0.5        -0.30784315  0.14705883 -0.31568629 -0.5        -0.47254902\n",
      " -0.30392158  0.15882353  0.48823529  0.15490197 -0.47647059 -0.5        -0.5\n",
      " -0.5        -0.5        -0.5        -0.5        -0.5        -0.5        -0.5\n",
      " -0.5        -0.5        -0.5        -0.5        -0.5        -0.5\n",
      "  0.4254902   0.47254902 -0.29215688 -0.5        -0.5        -0.5        -0.5\n",
      " -0.5        -0.5        -0.5        -0.09607843  0.49607843 -0.20588236\n",
      " -0.5        -0.5        -0.5        -0.5        -0.5        -0.5        -0.5\n",
      " -0.5        -0.5        -0.5        -0.5        -0.5        -0.5        -0.5\n",
      " -0.5        -0.19019608  0.45294118  0.20980392 -0.31176472 -0.5        -0.5\n",
      " -0.5        -0.5        -0.5        -0.43333334  0.00196078  0.49607843\n",
      " -0.20588236 -0.5        -0.5        -0.5        -0.5        -0.5        -0.5\n",
      " -0.5        -0.5        -0.5        -0.5        -0.5        -0.5        -0.5\n",
      " -0.5        -0.5        -0.5        -0.21372549  0.27254903  0.45686275\n",
      "  0.17058824  0.11568628 -0.01372549 -0.01764706  0.11568628  0.26862746\n",
      "  0.39019608  0.05294118 -0.45686275 -0.5        -0.5        -0.5        -0.5\n",
      " -0.5        -0.5        -0.5        -0.5        -0.5        -0.5        -0.5\n",
      " -0.5        -0.5        -0.5        -0.5        -0.5        -0.5        -0.5\n",
      " -0.02941176  0.16666667  0.49607843  0.5         0.49607843  0.20588236\n",
      " -0.11960784 -0.48039216 -0.5        -0.5        -0.5        -0.5        -0.5\n",
      " -0.5        -0.5        -0.5        -0.5        -0.5        -0.5        -0.5\n",
      " -0.5        -0.5        -0.5        -0.5        -0.5        -0.5        -0.5\n",
      " -0.5        -0.5        -0.5        -0.5        -0.5        -0.5        -0.5\n",
      " -0.5        -0.5        -0.5        -0.5        -0.5        -0.5        -0.5\n",
      " -0.5        -0.5        -0.5        -0.5        -0.5        -0.5        -0.5\n",
      " -0.5        -0.5        -0.5        -0.5        -0.5        -0.5        -0.5\n",
      " -0.5        -0.5        -0.5        -0.5        -0.5        -0.5        -0.5\n",
      " -0.5        -0.5        -0.5        -0.5        -0.5        -0.5        -0.5\n",
      " -0.5        -0.5        -0.5        -0.5        -0.5        -0.5        -0.5\n",
      " -0.5        -0.5        -0.5        -0.5        -0.5        -0.5        -0.5\n",
      " -0.5        -0.5        -0.5        -0.5        -0.5        -0.5        -0.5\n",
      " -0.5        -0.5        -0.5        -0.5        -0.5        -0.5        -0.5\n",
      " -0.5        -0.5        -0.5        -0.5        -0.5        -0.5        -0.5\n",
      " -0.5        -0.5        -0.5        -0.5        -0.5        -0.5        -0.5\n",
      " -0.5        -0.5        -0.5        -0.5        -0.5        -0.5        -0.5\n",
      " -0.5        -0.5        -0.5        -0.5        -0.5        -0.5        -0.5\n",
      " -0.5        -0.5        -0.5        -0.5        -0.5        -0.5        -0.5\n",
      " -0.5        -0.5        -0.5        -0.5        -0.5        -0.5        -0.5\n",
      " -0.5        -0.5        -0.5        -0.5        -0.5        -0.5        -0.5\n",
      " -0.5        -0.5        -0.5        -0.5        -0.5        -0.5        -0.5\n",
      " -0.5        -0.5        -0.5       ]\n"
     ]
    }
   ],
   "source": [
    "print Xtr[idx].reshape((1, 784))[0]"
   ]
  },
  {
   "cell_type": "code",
   "execution_count": 5,
   "metadata": {
    "collapsed": false,
    "slideshow": {
     "slide_type": "slide"
    }
   },
   "outputs": [
    {
     "data": {
      "image/png": "[encoded data removed]",
      "text/plain": [
       "<matplotlib.figure.Figure at 0x10bcfb150>"
      ]
     },
     "metadata": {},
     "output_type": "display_data"
    }
   ],
   "source": [
    "fig = plt.figure(figsize=(10, 7.5))\n",
    "vis_utils.plot_array(fig, Xtr, Ytr)"
   ]
  },
  {
   "cell_type": "markdown",
   "metadata": {
    "slideshow": {
     "slide_type": "slide"
    }
   },
   "source": [
    "\n",
    "### 1.3 Data Preprocessing"
   ]
  },
  {
   "cell_type": "markdown",
   "metadata": {},
   "source": [
    "* To help with model assessment, we set aside some *validation* data from the training set"
   ]
  },
  {
   "cell_type": "code",
   "execution_count": 6,
   "metadata": {
    "collapsed": false,
    "scrolled": false,
    "slideshow": {
     "slide_type": "slide"
    }
   },
   "outputs": [
    {
     "name": "stdout",
     "output_type": "stream",
     "text": [
      "Training data shape:  (59000, 784)\n",
      "Validation data shape:  (1000, 784)\n",
      "Test data shape:  (10000, 784)\n"
     ]
    }
   ],
   "source": [
    "# First, vectorise image data\n",
    "Xtr_rows = np.reshape(Xtr, (Xtr.shape[0], -1))\n",
    "Xte_rows = np.reshape(Xte, (Xte.shape[0], -1))\n",
    "\n",
    "# Subsample the data for more efficient code execution in this exercise.\n",
    "num_training = 59000\n",
    "num_validation = 1000\n",
    "num_test = 10000\n",
    "\n",
    "# Create validation split\n",
    "Xtr_rows, Ytr, Xval_rows, Yval, Xte_rows, Yte = data_utils.create_data_splits(\n",
    "    Xtr_rows, Ytr, Xte_rows, Yte, num_training, num_validation, num_test)\n",
    "\n",
    "# As a sanity check, print out the shapes of the data\n",
    "print 'Training data shape: ', Xtr_rows.shape\n",
    "print 'Validation data shape: ', Xval_rows.shape\n",
    "print 'Test data shape: ', Xte_rows.shape"
   ]
  },
  {
   "cell_type": "markdown",
   "metadata": {},
   "source": [
    "* A typical procedure prior to training is to normalise the data.\n",
    "\n",
    "\n",
    "* Here we subtract the *mean image*"
   ]
  },
  {
   "cell_type": "code",
   "execution_count": 7,
   "metadata": {
    "collapsed": false,
    "scrolled": false,
    "slideshow": {
     "slide_type": "slide"
    }
   },
   "outputs": [
    {
     "data": {
      "image/png": "[encoded data removed]",
      "text/plain": [
       "<matplotlib.figure.Figure at 0x10bce8e10>"
      ]
     },
     "metadata": {},
     "output_type": "display_data"
    }
   ],
   "source": [
    "mean_image = np.mean(Xtr, axis=0).reshape(1, 784)\n",
    "\n",
    "Xtr_rows -= mean_image\n",
    "Xval_rows -= mean_image\n",
    "Xte_rows -= mean_image\n",
    "\n",
    "fig, ax = plt.subplots(figsize=(7.5, 7.5))\n",
    "vis_utils.plot_image(ax, mean_image.reshape(28, 28))"
   ]
  },
  {
   "cell_type": "markdown",
   "metadata": {
    "slideshow": {
     "slide_type": "slide"
    }
   },
   "source": [
    "### 1.2 Linear Classification\n",
    "\n",
    "* First we will assume a linear *score function*, that is, a prediction that is a linear combination of inputs and model *weights*,\n",
    "\n",
    "$$f(\\mathbf{x} ; \\mathbf{w}) = \\mathbf{w}^T\\mathbf{x} = w_1x_1 + w_2x_2 + \\dots + w_Dx_D$$\n",
    "\n",
    "\n",
    "* For MNIST, $D = 784$, and we need a weight for every pixel in an image.\n",
    "\n",
    "\n",
    "* The choice of model weights will be *inferred* from the data in a procedure called *training*.\n",
    "\n",
    "\n",
    "*Stanford Computer Vision course--Convolutional Neural Networks for Visual Recognition [http://cs231n.stanford.edu/](http://cs231n.stanford.edu/) *"
   ]
  },
  {
   "cell_type": "markdown",
   "metadata": {
    "collapsed": false,
    "slideshow": {
     "slide_type": "fragment"
    }
   },
   "source": [
    "<div style=\"text-align:center\"><img src =\"img/linear.png\"/></div>"
   ]
  },
  {
   "cell_type": "markdown",
   "metadata": {
    "slideshow": {
     "slide_type": "subslide"
    }
   },
   "source": [
    "### 1.3 Model training\n",
    "\n",
    "* Training involves computing a mathematical function that differentiates between observations from different classes--classifier\n",
    "\n",
    "\n",
    "* We first decide on a form for the function $f$ to take, then we optimise its parameters $\\mathbf{w}$ over the dataset and a loss function, $\\mathcal{L}$,\n",
    "\n",
    "$$\\mathbf{w}^* = \\min_{\\mathbf{w}} \\sum_{i=1}^N \\mathcal{L}(f(\\mathbf{x}_i ; \\mathbf{w}), y_i)$$\n",
    "\n",
    "\n",
    "* The loss function measures how close the classification of each observation \\mathbf{x}_i is to the true value $y_i$.\n",
    "\n",
    "\n",
    "* Training consists of finding the weights that minimise the loss over the training set."
   ]
  },
  {
   "cell_type": "markdown",
   "metadata": {
    "slideshow": {
     "slide_type": "slide"
    }
   },
   "source": [
    "* The most common procedure for optimising a convex differentiable function is known as *gradient descent*,\n",
    "\n",
    "$$\\mathbf{w}^{(k+1)} = \\mathbf{w}^{(k)} - \\alpha\\nabla\\mathcal{L}(\\mathbf{w}^{(k)})$$\n",
    "\n",
    "where $\\alpha$ is referred to as the step size or *learning rate*. Thus, each iteration is a descent step, and we converge iteratively to a global minimum."
   ]
  },
  {
   "cell_type": "markdown",
   "metadata": {
    "slideshow": {
     "slide_type": "fragment"
    }
   },
   "source": [
    "![img/gradientdescent.png](img/gradientdescent.png)"
   ]
  },
  {
   "cell_type": "code",
   "execution_count": 8,
   "metadata": {
    "collapsed": false,
    "scrolled": false,
    "slideshow": {
     "slide_type": "subslide"
    }
   },
   "outputs": [
    {
     "name": "stdout",
     "output_type": "stream",
     "text": [
      "Step 0 of 1500\n",
      "Mini-batch loss: 73.03822 Learning rate: 0.00000\n",
      "Validation error: 0.8720\n",
      "Step 100 of 1500\n",
      "Mini-batch loss: 32.49823 Learning rate: 0.00000\n",
      "Validation error: 0.8530\n",
      "Step 200 of 1500\n",
      "Mini-batch loss: 17.62190 Learning rate: 0.00000\n",
      "Validation error: 0.8290\n",
      "Step 300 of 1500\n",
      "Mini-batch loss: 12.16345 Learning rate: 0.00000\n",
      "Validation error: 0.7820\n",
      "Step 400 of 1500\n",
      "Mini-batch loss: 10.15973 Learning rate: 0.00000\n",
      "Validation error: 0.7100\n",
      "Step 500 of 1500\n",
      "Mini-batch loss: 9.42493 Learning rate: 0.00000\n",
      "Validation error: 0.6030\n",
      "Step 600 of 1500\n",
      "Mini-batch loss: 9.15521 Learning rate: 0.00000\n",
      "Validation error: 0.4740\n",
      "Step 700 of 1500\n",
      "Mini-batch loss: 9.05624 Learning rate: 0.00000\n",
      "Validation error: 0.3500\n",
      "Step 800 of 1500\n",
      "Mini-batch loss: 9.02000 Learning rate: 0.00000\n",
      "Validation error: 0.2590\n",
      "Step 900 of 1500\n",
      "Mini-batch loss: 9.00661 Learning rate: 0.00000\n",
      "Validation error: 0.2230\n",
      "Step 1000 of 1500\n",
      "Mini-batch loss: 9.00178 Learning rate: 0.00000\n",
      "Validation error: 0.1980\n",
      "Step 1100 of 1500\n",
      "Mini-batch loss: 8.99992 Learning rate: 0.00000\n",
      "Validation error: 0.1980\n",
      "Step 1200 of 1500\n",
      "Mini-batch loss: 8.99936 Learning rate: 0.00000\n",
      "Validation error: 0.1960\n",
      "Step 1300 of 1500\n",
      "Mini-batch loss: 8.99906 Learning rate: 0.00000\n",
      "Validation error: 0.1920\n",
      "Step 1400 of 1500\n",
      "Mini-batch loss: 8.99900 Learning rate: 0.00000\n",
      "Validation error: 0.1890\n"
     ]
    }
   ],
   "source": [
    "from src.linear_models import MultiSVM, SoftmaxRegression\n",
    "\n",
    "# Perform bias trick\n",
    "Xtr_rows = np.append(Xtr_rows, np.ones((Xtr_rows.shape[0], 1)), axis=1)\n",
    "Xval_rows = np.append(Xval_rows, np.ones((Xval_rows.shape[0], 1)), axis=1)\n",
    "Xte_rows = np.append(Xte_rows, np.ones((Xte_rows.shape[0], 1)), axis=1)\n",
    "\n",
    "reg = 5e4\n",
    "batch_size = 200\n",
    "max_iters = 1500\n",
    "learning_rate = 1e-7\n",
    "\n",
    "model = MultiSVM(Xtr_rows, Ytr)\n",
    "model.train(reg, batch_size, learning_rate, max_iters, Xval_rows, Yval)"
   ]
  },
  {
   "cell_type": "markdown",
   "metadata": {},
   "source": [
    "### 1.4 Model Testing"
   ]
  },
  {
   "cell_type": "code",
   "execution_count": 9,
   "metadata": {
    "collapsed": false,
    "scrolled": false,
    "slideshow": {
     "slide_type": "slide"
    }
   },
   "outputs": [
    {
     "name": "stdout",
     "output_type": "stream",
     "text": [
      "Error: 26.03%\n"
     ]
    }
   ],
   "source": [
    "num_test = Yte.shape[0]\n",
    "predictions = [model.predict(Xte_rows[i]) for i in range(num_test)]\n",
    "print 'Error: %.02f%%' % (100 * (1 - float(sum(Yte == np.array(predictions))) / num_test))"
   ]
  },
  {
   "cell_type": "code",
   "execution_count": 10,
   "metadata": {
    "collapsed": false,
    "slideshow": {
     "slide_type": "slide"
    }
   },
   "outputs": [
    {
     "data": {
      "image/png": "[encoded data removed]",
      "text/plain": [
       "<matplotlib.figure.Figure at 0x11aa35f50>"
      ]
     },
     "metadata": {},
     "output_type": "display_data"
    }
   ],
   "source": [
    "from src import vis_utils\n",
    "\n",
    "num_classes = 10\n",
    "\n",
    "fig, ax = plt.subplots(figsize=(10, 7.5))\n",
    "\n",
    "classes = ['zero', 'one', 'two', 'three', 'four', 'five', 'six', 'seven', 'eight', 'nine']\n",
    "confusion_matrix = np.zeros((num_classes, num_classes), np.int32)\n",
    "\n",
    "for i in range(len(predictions)):\n",
    "    confusion_matrix[Yte[i]][predictions[i]] += 1\n",
    "\n",
    "vis_utils.plot_confusion_matrix(ax, confusion_matrix, classes, fontsize=15)"
   ]
  },
  {
   "cell_type": "markdown",
   "metadata": {},
   "source": [
    "* Let's look at some of the model's mistakes"
   ]
  },
  {
   "cell_type": "code",
   "execution_count": 11,
   "metadata": {
    "collapsed": false,
    "slideshow": {
     "slide_type": "subslide"
    }
   },
   "outputs": [
    {
     "name": "stdout",
     "output_type": "stream",
     "text": [
      "Prediction: 0\n",
      "True class: 6\n"
     ]
    },
    {
     "data": {
      "image/png": "[encoded data removed]",
      "text/plain": [
       "<matplotlib.figure.Figure at 0x11aab2b50>"
      ]
     },
     "metadata": {},
     "output_type": "display_data"
    }
   ],
   "source": [
    "false = np.where(np.not_equal(Yte, predictions))[0]\n",
    "idx = np.random.choice(false)\n",
    "print 'Prediction: %d\\nTrue class: %d' % (predictions[idx], Yte[idx])\n",
    "\n",
    "fig, ax = plt.subplots()\n",
    "vis_utils.plot_image(ax, Xte[idx][0:,:,0])"
   ]
  },
  {
   "cell_type": "markdown",
   "metadata": {},
   "source": [
    "* In pixel-space, the model had moderate success in separating the image clusters."
   ]
  },
  {
   "cell_type": "markdown",
   "metadata": {
    "collapsed": false,
    "slideshow": {
     "slide_type": "slide"
    }
   },
   "source": [
    "![img/boundaries.png](img/boundaries.png)"
   ]
  },
  {
   "cell_type": "markdown",
   "metadata": {
    "slideshow": {
     "slide_type": "slide"
    }
   },
   "source": [
    "* The optimised weights are those generalising maximally over each of the class observations\n",
    "\n",
    "\n",
    "* We can take each of the weight vectors and plot them as an image to visualise the template they have learned"
   ]
  },
  {
   "cell_type": "code",
   "execution_count": 12,
   "metadata": {
    "collapsed": false,
    "scrolled": false,
    "slideshow": {
     "slide_type": "fragment"
    }
   },
   "outputs": [
    {
     "data": {
      "image/png": "[encoded data removed]",
      "text/plain": [
       "<matplotlib.figure.Figure at 0x11aa79b10>"
      ]
     },
     "metadata": {},
     "output_type": "display_data"
    }
   ],
   "source": [
    "fig = plt.figure(figsize=(14, 7))\n",
    "vis_utils.plot_weights(fig, weights = model.W[:-1,:])"
   ]
  },
  {
   "cell_type": "markdown",
   "metadata": {
    "slideshow": {
     "slide_type": "slide"
    }
   },
   "source": [
    "## 2. Deep Learning"
   ]
  },
  {
   "cell_type": "markdown",
   "metadata": {},
   "source": [
    "### 2.1 Features\n",
    "* Features provide a *representation* of the objects we want to classify\n",
    "\n",
    "\n",
    "* Designing features is arguably the most difficult and most important aspect of machine learning\n",
    "\n",
    "\n",
    "* Previously we were operating purely on pixel features\n",
    "\n",
    "\n",
    "* One way we might improve is with *feature engineering* (expert knowledge), *feature extraction*\n",
    "(conventional techniques), *feature selection*, or *dimensionality reduction*.\n",
    "\n",
    "\n",
    "* Another approach is to create non-linear transformations based on a *kernel function* (see kernel methods)."
   ]
  },
  {
   "cell_type": "markdown",
   "metadata": {
    "collapsed": false,
    "slideshow": {
     "slide_type": "slide"
    }
   },
   "source": [
    "![img/convolve.png](img/convolve.png)"
   ]
  },
  {
   "cell_type": "markdown",
   "metadata": {
    "collapsed": false,
    "slideshow": {
     "slide_type": "subslide"
    }
   },
   "source": [
    "![img/convolution.jpg](img/convolution.jpg)"
   ]
  },
  {
   "cell_type": "markdown",
   "metadata": {},
   "source": [
    "* Another approach is to build the feature learning into the model itself. This is the essence of *representation* or *deep learning*.\n",
    "\n",
    "\n",
    "* Deep learning is characterised by the modeling of a hierarchy of abstraction in the input data\n",
    "\n",
    "\n",
    "* Each layer of a CNN models features as agglomerations of the features in the previous layer (edges to blobs, to anatomical units, to objects, etc.)\n",
    "\n",
    "\n",
    "* Neural networks are particularly amenable hierarchical learning, as hidden layers are easily stacked.\n",
    "\n",
    "\n",
    "* Have surmounted long-standing challenges in artificial intelligence (e.g. AlphaGo).\n",
    "\n",
    "*LeCun, Yann, Yoshua Bengio, and Geoffrey Hinton. \"Deep learning.\" Nature 521.7553 (2015): 436-444.*\n",
    "\n",
    "*For a live demo of this, see the Deep Visualisation Toolbox (https://www.youtube.com/watch?v=AgkfIQ4IGaM)*"
   ]
  },
  {
   "cell_type": "markdown",
   "metadata": {},
   "source": [
    "### 2.2 Artificial Neural Networks"
   ]
  },
  {
   "cell_type": "markdown",
   "metadata": {
    "slideshow": {
     "slide_type": "fragment"
    }
   },
   "source": [
    "\n",
    "\n",
    "This is the starting point for Basis of deep learning, though not explicity deep\n",
    "\n",
    "* No longer a linear model -- outputs are not linear combinations of inputs and model parameters\n",
    "\n",
    "* Non-linear activations create orthogonal basis\n",
    "\n",
    "\\+ Greater flexibility (universal approximator)\n",
    "\n",
    "\\+ Built-in feature extraction\n",
    "\n",
    "\\- Harder to train (not convex)\n",
    "\n",
    "\\- Theory relatively underdeveloped\n",
    "\n",
    "* (Loosely) inspired by the interaction of neurons in the human brain\n"
   ]
  },
  {
   "cell_type": "markdown",
   "metadata": {
    "collapsed": false,
    "slideshow": {
     "slide_type": "fragment"
    }
   },
   "source": [
    "![img/layers.png](img/layers.png)"
   ]
  },
  {
   "cell_type": "markdown",
   "metadata": {
    "slideshow": {
     "slide_type": "slide"
    }
   },
   "source": [
    "### 2.3 Convolutional Neural Networks"
   ]
  },
  {
   "cell_type": "markdown",
   "metadata": {},
   "source": [
    "* Convolutional Neural Networks (CNN) are a type of feed-forward neural network wired so as to perform convolutions (image processing) on input data.\n",
    "\n",
    "\n",
    "* As such, feature extraction is built into the classifier, an optimised wrt the same loss function. *Representation learning*.\n",
    "\n",
    "\n",
    "* LeNet is the original network architecture of CNNs, introduced by Yann Lecun in the 90s.\n",
    "\n",
    "\n",
    "* Covolutional layers (loosely) inspired by the human visual cortex\n",
    "\n",
    "\n",
    "*LeCun, Yann, et al. \"Gradient-based learning applied to document recognition.\" Proceedings of the IEEE 86.11 (1998): 2278-2324.*"
   ]
  },
  {
   "cell_type": "markdown",
   "metadata": {
    "collapsed": false,
    "slideshow": {
     "slide_type": "subslide"
    }
   },
   "source": [
    "![img/lenet.png](img/lenet.png)"
   ]
  },
  {
   "cell_type": "markdown",
   "metadata": {
    "slideshow": {
     "slide_type": "skip"
    }
   },
   "source": [
    "* CNNs were the breakout success in 2012 that won the ImageNet image classification challenge.\n",
    "\n",
    "\n",
    "* *AlexNet* was a *deep* architecture with many convolutional layers.\n",
    "\n",
    "\n",
    "* The result was quickly followed by a paradigm shift in computer vision research, supplanting tailored feature extraction and reinstating neural networks.\n",
    "\n",
    "*Krizhevsky, Alex, Ilya Sutskever, and Geoffrey E. Hinton. \"Imagenet classification with deep convolutional neural networks.\" Advances in neural information processing systems. 2012.*"
   ]
  },
  {
   "cell_type": "markdown",
   "metadata": {},
   "source": [
    "### 2.4 Tensor Flow"
   ]
  },
  {
   "cell_type": "markdown",
   "metadata": {
    "slideshow": {
     "slide_type": "subslide"
    }
   },
   "source": [
    "\n",
    "\n",
    "* Python machine learning framework developed by Google Brain (deep learning team)\n",
    "\n",
    "\n",
    "* Originally proprietary, made open source (Apache 2.0) in late 2015\n",
    "\n",
    "\n",
    "* Model is built into a *computational graph*\n",
    "\n",
    "\n",
    "* *Tensors* (multi-dimensional arrays of data) *flow* through the computational graph"
   ]
  },
  {
   "cell_type": "markdown",
   "metadata": {
    "collapsed": false,
    "slideshow": {
     "slide_type": "slide"
    }
   },
   "source": [
    "![img/TensorFlowLogo.png](img/TensorFlowLogo.png)"
   ]
  },
  {
   "cell_type": "code",
   "execution_count": 13,
   "metadata": {
    "collapsed": false
   },
   "outputs": [
    {
     "name": "stdout",
     "output_type": "stream",
     "text": [
      "Done\n"
     ]
    }
   ],
   "source": [
    "from src.cnn import ConvolutionalNeuralNetwork\n",
    "\n",
    "# Use unflattened data\n",
    "Xval = Xtr[num_training:,:]\n",
    "Xtr = Xtr[:num_training,:]\n",
    "\n",
    "model = ConvolutionalNeuralNetwork(Xval, Xte)\n",
    "model.init_training_graph(num_training)"
   ]
  },
  {
   "cell_type": "markdown",
   "metadata": {},
   "source": [
    "### 2.5 Model Training"
   ]
  },
  {
   "cell_type": "code",
   "execution_count": 14,
   "metadata": {
    "collapsed": false,
    "scrolled": false
   },
   "outputs": [
    {
     "name": "stdout",
     "output_type": "stream",
     "text": [
      "Step 0 of 5900\n",
      "Mini-batch loss: 10.34451 Error: 100.00000 Learning rate: 0.01000\n",
      "Validation error: 90.3%\n",
      "Step 100 of 5900\n",
      "Mini-batch loss: 3.75488 Error: 20.00000 Learning rate: 0.01000\n",
      "Validation error: 15.1%\n",
      "Step 200 of 5900\n",
      "Mini-batch loss: 3.22774 Error: 10.00000 Learning rate: 0.01000\n",
      "Validation error: 6.2%\n",
      "Step 300 of 5900\n",
      "Mini-batch loss: 3.07595 Error: 0.00000 Learning rate: 0.01000\n",
      "Validation error: 4.6%\n",
      "Step 400 of 5900\n",
      "Mini-batch loss: 3.43362 Error: 10.00000 Learning rate: 0.01000\n",
      "Validation error: 3.5%\n",
      "Step 500 of 5900\n",
      "Mini-batch loss: 3.20023 Error: 10.00000 Learning rate: 0.01000\n",
      "Validation error: 4.0%\n",
      "Step 600 of 5900\n",
      "Mini-batch loss: 3.06359 Error: 0.00000 Learning rate: 0.01000\n",
      "Validation error: 4.4%\n",
      "Step 700 of 5900\n",
      "Mini-batch loss: 3.18009 Error: 20.00000 Learning rate: 0.01000\n",
      "Validation error: 3.9%\n",
      "Step 800 of 5900\n",
      "Mini-batch loss: 3.46918 Error: 10.00000 Learning rate: 0.01000\n",
      "Validation error: 6.0%\n",
      "Step 900 of 5900\n",
      "Mini-batch loss: 3.12500 Error: 10.00000 Learning rate: 0.01000\n",
      "Validation error: 4.6%\n",
      "Step 1000 of 5900\n",
      "Mini-batch loss: 2.88135 Error: 0.00000 Learning rate: 0.01000\n",
      "Validation error: 3.7%\n",
      "Step 1100 of 5900\n",
      "Mini-batch loss: 2.84003 Error: 0.00000 Learning rate: 0.01000\n",
      "Validation error: 4.8%\n",
      "Step 1200 of 5900\n",
      "Mini-batch loss: 3.39018 Error: 10.00000 Learning rate: 0.01000\n",
      "Validation error: 2.6%\n",
      "Step 1300 of 5900\n",
      "Mini-batch loss: 2.78165 Error: 0.00000 Learning rate: 0.01000\n",
      "Validation error: 2.5%\n",
      "Step 1400 of 5900\n",
      "Mini-batch loss: 3.48420 Error: 10.00000 Learning rate: 0.01000\n",
      "Validation error: 2.8%\n",
      "Step 1500 of 5900\n",
      "Mini-batch loss: 2.72991 Error: 0.00000 Learning rate: 0.01000\n",
      "Validation error: 2.3%\n",
      "Step 1600 of 5900\n",
      "Mini-batch loss: 2.68382 Error: 0.00000 Learning rate: 0.01000\n",
      "Validation error: 2.2%\n",
      "Step 1700 of 5900\n",
      "Mini-batch loss: 2.69381 Error: 0.00000 Learning rate: 0.01000\n",
      "Validation error: 3.2%\n",
      "Step 1800 of 5900\n",
      "Mini-batch loss: 3.12968 Error: 10.00000 Learning rate: 0.01000\n",
      "Validation error: 2.5%\n",
      "Step 1900 of 5900\n",
      "Mini-batch loss: 2.61267 Error: 0.00000 Learning rate: 0.01000\n",
      "Validation error: 1.4%\n",
      "Step 2000 of 5900\n",
      "Mini-batch loss: 2.60113 Error: 0.00000 Learning rate: 0.01000\n",
      "Validation error: 2.9%\n",
      "Step 2100 of 5900\n",
      "Mini-batch loss: 2.55952 Error: 0.00000 Learning rate: 0.01000\n",
      "Validation error: 2.0%\n",
      "Step 2200 of 5900\n",
      "Mini-batch loss: 2.53411 Error: 0.00000 Learning rate: 0.01000\n",
      "Validation error: 1.9%\n",
      "Step 2300 of 5900\n",
      "Mini-batch loss: 2.52786 Error: 0.00000 Learning rate: 0.01000\n",
      "Validation error: 2.2%\n",
      "Step 2400 of 5900\n",
      "Mini-batch loss: 2.50245 Error: 0.00000 Learning rate: 0.01000\n",
      "Validation error: 2.1%\n",
      "Step 2500 of 5900\n",
      "Mini-batch loss: 2.48225 Error: 0.00000 Learning rate: 0.01000\n",
      "Validation error: 2.0%\n",
      "Step 2600 of 5900\n",
      "Mini-batch loss: 2.43955 Error: 0.00000 Learning rate: 0.01000\n",
      "Validation error: 2.8%\n",
      "Step 2700 of 5900\n",
      "Mini-batch loss: 2.41634 Error: 0.00000 Learning rate: 0.01000\n",
      "Validation error: 2.9%\n",
      "Step 2800 of 5900\n",
      "Mini-batch loss: 2.38972 Error: 0.00000 Learning rate: 0.01000\n",
      "Validation error: 2.6%\n",
      "Step 2900 of 5900\n",
      "Mini-batch loss: 2.37622 Error: 0.00000 Learning rate: 0.01000\n",
      "Validation error: 3.1%\n",
      "Step 3000 of 5900\n",
      "Mini-batch loss: 2.35218 Error: 0.00000 Learning rate: 0.01000\n",
      "Validation error: 1.6%\n",
      "Step 3100 of 5900\n",
      "Mini-batch loss: 2.37007 Error: 0.00000 Learning rate: 0.01000\n",
      "Validation error: 2.3%\n",
      "Step 3200 of 5900\n",
      "Mini-batch loss: 2.48435 Error: 10.00000 Learning rate: 0.01000\n",
      "Validation error: 2.0%\n",
      "Step 3300 of 5900\n",
      "Mini-batch loss: 2.30058 Error: 0.00000 Learning rate: 0.01000\n",
      "Validation error: 2.0%\n",
      "Step 3400 of 5900\n",
      "Mini-batch loss: 2.25944 Error: 0.00000 Learning rate: 0.01000\n",
      "Validation error: 1.8%\n",
      "Step 3500 of 5900\n",
      "Mini-batch loss: 2.23340 Error: 0.00000 Learning rate: 0.01000\n",
      "Validation error: 1.6%\n",
      "Step 3600 of 5900\n",
      "Mini-batch loss: 2.60767 Error: 10.00000 Learning rate: 0.01000\n",
      "Validation error: 1.3%\n",
      "Step 3700 of 5900\n",
      "Mini-batch loss: 2.20849 Error: 0.00000 Learning rate: 0.01000\n",
      "Validation error: 1.9%\n",
      "Step 3800 of 5900\n",
      "Mini-batch loss: 2.17581 Error: 0.00000 Learning rate: 0.01000\n",
      "Validation error: 1.3%\n",
      "Step 3900 of 5900\n",
      "Mini-batch loss: 2.14855 Error: 0.00000 Learning rate: 0.01000\n",
      "Validation error: 1.4%\n",
      "Step 4000 of 5900\n",
      "Mini-batch loss: 2.12919 Error: 0.00000 Learning rate: 0.01000\n",
      "Validation error: 1.6%\n",
      "Step 4100 of 5900\n",
      "Mini-batch loss: 2.11565 Error: 0.00000 Learning rate: 0.01000\n",
      "Validation error: 1.8%\n",
      "Step 4200 of 5900\n",
      "Mini-batch loss: 2.21042 Error: 10.00000 Learning rate: 0.01000\n",
      "Validation error: 1.8%\n",
      "Step 4300 of 5900\n",
      "Mini-batch loss: 2.07867 Error: 0.00000 Learning rate: 0.01000\n",
      "Validation error: 1.8%\n",
      "Step 4400 of 5900\n",
      "Mini-batch loss: 2.06407 Error: 0.00000 Learning rate: 0.01000\n",
      "Validation error: 2.0%\n",
      "Step 4500 of 5900\n",
      "Mini-batch loss: 2.02889 Error: 0.00000 Learning rate: 0.01000\n",
      "Validation error: 1.7%\n",
      "Step 4600 of 5900\n",
      "Mini-batch loss: 2.00932 Error: 0.00000 Learning rate: 0.01000\n",
      "Validation error: 1.6%\n",
      "Step 4700 of 5900\n",
      "Mini-batch loss: 2.33692 Error: 10.00000 Learning rate: 0.01000\n",
      "Validation error: 2.3%\n",
      "Step 4800 of 5900\n",
      "Mini-batch loss: 2.07191 Error: 10.00000 Learning rate: 0.01000\n",
      "Validation error: 2.8%\n",
      "Step 4900 of 5900\n",
      "Mini-batch loss: 2.15997 Error: 10.00000 Learning rate: 0.01000\n",
      "Validation error: 1.8%\n",
      "Step 5000 of 5900\n",
      "Mini-batch loss: 1.93235 Error: 0.00000 Learning rate: 0.01000\n",
      "Validation error: 1.2%\n",
      "Step 5100 of 5900\n",
      "Mini-batch loss: 1.91555 Error: 0.00000 Learning rate: 0.01000\n",
      "Validation error: 1.5%\n",
      "Step 5200 of 5900\n",
      "Mini-batch loss: 1.90208 Error: 0.00000 Learning rate: 0.01000\n",
      "Validation error: 1.4%\n",
      "Step 5300 of 5900\n",
      "Mini-batch loss: 1.90724 Error: 0.00000 Learning rate: 0.01000\n",
      "Validation error: 1.5%\n",
      "Step 5400 of 5900\n",
      "Mini-batch loss: 1.87627 Error: 0.00000 Learning rate: 0.01000\n",
      "Validation error: 1.3%\n",
      "Step 5500 of 5900\n",
      "Mini-batch loss: 1.86620 Error: 0.00000 Learning rate: 0.01000\n",
      "Validation error: 1.4%\n",
      "Step 5600 of 5900\n",
      "Mini-batch loss: 1.82362 Error: 0.00000 Learning rate: 0.01000\n",
      "Validation error: 1.5%\n",
      "Step 5700 of 5900\n",
      "Mini-batch loss: 1.97536 Error: 10.00000 Learning rate: 0.01000\n",
      "Validation error: 0.9%\n",
      "Step 5800 of 5900\n",
      "Mini-batch loss: 1.81696 Error: 0.00000 Learning rate: 0.01000\n",
      "Validation error: 1.3%\n"
     ]
    }
   ],
   "source": [
    "model.train(Xtr, Ytr, Yval)"
   ]
  },
  {
   "cell_type": "markdown",
   "metadata": {},
   "source": [
    "### 2.6 Model testing"
   ]
  },
  {
   "cell_type": "code",
   "execution_count": 16,
   "metadata": {
    "collapsed": false,
    "scrolled": false
   },
   "outputs": [
    {
     "name": "stdout",
     "output_type": "stream",
     "text": [
      "Test error: 1.75%\n"
     ]
    }
   ],
   "source": [
    "predictions = model.test_model()\n",
    "correct = np.sum(predictions == Yte)\n",
    "total = predictions.shape[0]\n",
    "\n",
    "print 'Test error: %.02f%%' % (100 * (1 - float(correct) / float(total)))"
   ]
  },
  {
   "cell_type": "code",
   "execution_count": null,
   "metadata": {
    "collapsed": false
   },
   "outputs": [],
   "source": [
    "from src.vis_utils import plot_confusion_matrix\n",
    "\n",
    "classes = ['zero', 'one', 'two', 'three', 'four', 'five', 'six', 'seven', 'eight', 'nine']\n",
    "confusion_matrix = np.zeros((num_classes, num_classes), np.int32)\n",
    "\n",
    "for i in range(len(predictions)):\n",
    "    confusion_matrix[Yte[i]][predictions[i]] += 1\n",
    "\n",
    "fig, ax = plt.subplots(figsize=(10, 7.5))\n",
    "plot_confusion_matrix(ax, confusion_matrix, classes, fontsize=15)"
   ]
  },
  {
   "cell_type": "markdown",
   "metadata": {},
   "source": [
    "* Current world record: 0.21% error from *ensemble* of 5 CNNs with data augmentation\n",
    "\n",
    "*Romanuke, Vadim. \"Parallel Computing Center (Khmelnitskiy, Ukraine) represents an ensemble of 5 convolutional neural networks which performs on MNIST at 0.21 percent error rate.\". Retrieved 24 November 2016.\"*\n"
   ]
  }
 ],
 "metadata": {
  "anaconda-cloud": {},
  "kernelspec": {
   "display_name": "Python [default]",
   "language": "python",
   "name": "python2"
  },
  "language_info": {
   "codemirror_mode": {
    "name": "ipython",
    "version": 2
   },
   "file_extension": ".py",
   "mimetype": "text/x-python",
   "name": "python",
   "nbconvert_exporter": "python",
   "pygments_lexer": "ipython2",
   "version": "2.7.13"
  }
 },
 "nbformat": 4,
 "nbformat_minor": 1
}
